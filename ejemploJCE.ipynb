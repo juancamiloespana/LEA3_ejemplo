{
 "cells": [
  {
   "cell_type": "code",
   "execution_count": 4,
   "metadata": {
    "colab": {
     "base_uri": "https://localhost:8080/"
    },
    "executionInfo": {
     "elapsed": 23622,
     "status": "ok",
     "timestamp": 1741868633534,
     "user": {
      "displayName": "Juan Camilo ESPA�A LOPERA",
      "userId": "16805515508103244022"
     },
     "user_tz": 300
    },
    "id": "jJyculWIcQmG",
    "outputId": "fd2d7a34-01ce-4a33-fcc8-1287234f66ba"
   },
   "outputs": [
    {
     "name": "stdout",
     "output_type": "stream",
     "text": [
      "Mounted at /content/drive\n"
     ]
    }
   ],
   "source": [
    "# prompt: mount drive y crear path para sys y para directorio de trabajo\n",
    "\n",
    "from google.colab import drive\n",
    "drive.mount('/content/drive')\n",
    "\n",
    "import sys\n",
    "import os\n",
    "\n",
    "# Define the path to your working directory in Google Drive\n",
    "path = \"/content/drive/My Drive/cod/LEA3_ejemplo\"  # Replace with your actual directory\n",
    "\n",
    "\n",
    "sys.path.append(path) ### para importar archivo de funciones propias a través de import\n",
    "\n",
    "os.chdir(path) ### para que por defecto suba y descargue archivos partiendo de esa ruta\n"
   ]
  },
  {
   "cell_type": "code",
   "execution_count": null,
   "metadata": {},
   "outputs": [],
   "source": [
    "import pandas as pd\n",
    "import numpy as np"
   ]
  }
 ],
 "metadata": {
  "colab": {
   "authorship_tag": "ABX9TyO2tR+hLDFJMr0F1UYIXWsl",
   "provenance": []
  },
  "kernelspec": {
   "display_name": "Python 3",
   "name": "python3"
  },
  "language_info": {
   "name": "python"
  }
 },
 "nbformat": 4,
 "nbformat_minor": 0
}
